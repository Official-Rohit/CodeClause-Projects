{
 "cells": [
  {
   "cell_type": "code",
   "execution_count": 1,
   "id": "4208bda0",
   "metadata": {},
   "outputs": [],
   "source": [
    "import pandas as pd\n",
    "import numpy as np\n",
    "from sklearn.model_selection import train_test_split\n",
    "from sklearn.preprocessing import StandardScaler\n",
    "from sklearn.impute import SimpleImputer\n",
    "import matplotlib.pyplot as plt\n",
    "from sklearn.preprocessing import PolynomialFeatures\n",
    "from sklearn.linear_model import LinearRegression\n",
    "from sklearn.metrics import mean_squared_error, r2_score\n"
   ]
  },
  {
   "cell_type": "code",
   "execution_count": 24,
   "id": "18576ec6",
   "metadata": {},
   "outputs": [
    {
     "data": {
      "text/html": [
       "<div>\n",
       "<style scoped>\n",
       "    .dataframe tbody tr th:only-of-type {\n",
       "        vertical-align: middle;\n",
       "    }\n",
       "\n",
       "    .dataframe tbody tr th {\n",
       "        vertical-align: top;\n",
       "    }\n",
       "\n",
       "    .dataframe thead th {\n",
       "        text-align: right;\n",
       "    }\n",
       "</style>\n",
       "<table border=\"1\" class=\"dataframe\">\n",
       "  <thead>\n",
       "    <tr style=\"text-align: right;\">\n",
       "      <th></th>\n",
       "      <th>Customer_ID</th>\n",
       "      <th>Acquisition_Date</th>\n",
       "      <th>Total_Revenue</th>\n",
       "      <th>Number_of_Purchases</th>\n",
       "      <th>Tenure_Months</th>\n",
       "      <th>Discount_Rate(%)</th>\n",
       "      <th>Churn_Status</th>\n",
       "      <th>Satisfaction_Score</th>\n",
       "      <th>Visit_Frequency</th>\n",
       "    </tr>\n",
       "  </thead>\n",
       "  <tbody>\n",
       "    <tr>\n",
       "      <th>0</th>\n",
       "      <td>1390</td>\n",
       "      <td>2015-10-07</td>\n",
       "      <td>NaN</td>\n",
       "      <td>5</td>\n",
       "      <td>93</td>\n",
       "      <td>4.392795</td>\n",
       "      <td>0</td>\n",
       "      <td>2.948184</td>\n",
       "      <td>3.874897</td>\n",
       "    </tr>\n",
       "    <tr>\n",
       "      <th>1</th>\n",
       "      <td>1656</td>\n",
       "      <td>2019-02-08</td>\n",
       "      <td>2974.249278</td>\n",
       "      <td>32</td>\n",
       "      <td>40</td>\n",
       "      <td>19.695918</td>\n",
       "      <td>0</td>\n",
       "      <td>9.111982</td>\n",
       "      <td>9.731246</td>\n",
       "    </tr>\n",
       "    <tr>\n",
       "      <th>2</th>\n",
       "      <td>7118</td>\n",
       "      <td>2019-01-05</td>\n",
       "      <td>5466.481346</td>\n",
       "      <td>7</td>\n",
       "      <td>36</td>\n",
       "      <td>12.541254</td>\n",
       "      <td>0</td>\n",
       "      <td>1.248957</td>\n",
       "      <td>9.305309</td>\n",
       "    </tr>\n",
       "    <tr>\n",
       "      <th>3</th>\n",
       "      <td>8127</td>\n",
       "      <td>2015-10-23</td>\n",
       "      <td>8180.185798</td>\n",
       "      <td>53</td>\n",
       "      <td>100</td>\n",
       "      <td>12.169758</td>\n",
       "      <td>0</td>\n",
       "      <td>9.954624</td>\n",
       "      <td>8.107292</td>\n",
       "    </tr>\n",
       "    <tr>\n",
       "      <th>4</th>\n",
       "      <td>6266</td>\n",
       "      <td>2018-09-05</td>\n",
       "      <td>7382.723460</td>\n",
       "      <td>7</td>\n",
       "      <td>49</td>\n",
       "      <td>16.009657</td>\n",
       "      <td>0</td>\n",
       "      <td>9.956788</td>\n",
       "      <td>4.417862</td>\n",
       "    </tr>\n",
       "  </tbody>\n",
       "</table>\n",
       "</div>"
      ],
      "text/plain": [
       "   Customer_ID Acquisition_Date  Total_Revenue  Number_of_Purchases  \\\n",
       "0         1390       2015-10-07            NaN                    5   \n",
       "1         1656       2019-02-08    2974.249278                   32   \n",
       "2         7118       2019-01-05    5466.481346                    7   \n",
       "3         8127       2015-10-23    8180.185798                   53   \n",
       "4         6266       2018-09-05    7382.723460                    7   \n",
       "\n",
       "   Tenure_Months  Discount_Rate(%)  Churn_Status  Satisfaction_Score  \\\n",
       "0             93          4.392795             0            2.948184   \n",
       "1             40         19.695918             0            9.111982   \n",
       "2             36         12.541254             0            1.248957   \n",
       "3            100         12.169758             0            9.954624   \n",
       "4             49         16.009657             0            9.956788   \n",
       "\n",
       "   Visit_Frequency  \n",
       "0         3.874897  \n",
       "1         9.731246  \n",
       "2         9.305309  \n",
       "3         8.107292  \n",
       "4         4.417862  "
      ]
     },
     "execution_count": 24,
     "metadata": {},
     "output_type": "execute_result"
    }
   ],
   "source": [
    "# Load the data\n",
    "df = pd.read_csv('customer_lifetime_value_data.csv')\n",
    "df.head(5)"
   ]
  },
  {
   "cell_type": "code",
   "execution_count": null,
   "id": "a2d86579",
   "metadata": {},
   "outputs": [],
   "source": [
    "As it can be seen that the dataset  contains missing values and might have other data issues"
   ]
  },
  {
   "cell_type": "code",
   "execution_count": 25,
   "id": "9c284543",
   "metadata": {},
   "outputs": [
    {
     "name": "stdout",
     "output_type": "stream",
     "text": [
      "Missing data:\n",
      " Customer_ID               0\n",
      "Acquisition_Date          0\n",
      "Total_Revenue          2011\n",
      "Number_of_Purchases       0\n",
      "Tenure_Months             0\n",
      "Discount_Rate(%)       2008\n",
      "Churn_Status              0\n",
      "Satisfaction_Score     2013\n",
      "Visit_Frequency           0\n",
      "dtype: int64\n"
     ]
    }
   ],
   "source": [
    "print(\"Missing data:\\n\", df.isnull().sum())\n"
   ]
  },
  {
   "cell_type": "code",
   "execution_count": 26,
   "id": "9f63e027",
   "metadata": {},
   "outputs": [],
   "source": [
    "# Handling missing values using SimpleImputer (filling with mean for numerical data)\n",
    "imputer = SimpleImputer(strategy='mean')\n",
    "df['Total_Revenue'] = imputer.fit_transform(df[['Total_Revenue']])\n",
    "df['Discount_Rate(%)'] = imputer.fit_transform(df[['Discount_Rate(%)']])\n",
    "df['Satisfaction_Score'] = imputer.fit_transform(df[['Satisfaction_Score']])"
   ]
  },
  {
   "cell_type": "code",
   "execution_count": 27,
   "id": "d2a823ab",
   "metadata": {},
   "outputs": [],
   "source": [
    "#for duplicates\n",
    "# Drop duplicates\n",
    "df.drop_duplicates(inplace=True)"
   ]
  },
  {
   "cell_type": "code",
   "execution_count": 28,
   "id": "7f6ba21e",
   "metadata": {},
   "outputs": [
    {
     "name": "stdout",
     "output_type": "stream",
     "text": [
      "Missing data:\n",
      " Customer_ID            0\n",
      "Acquisition_Date       0\n",
      "Total_Revenue          0\n",
      "Number_of_Purchases    0\n",
      "Tenure_Months          0\n",
      "Discount_Rate(%)       0\n",
      "Churn_Status           0\n",
      "Satisfaction_Score     0\n",
      "Visit_Frequency        0\n",
      "dtype: int64\n"
     ]
    }
   ],
   "source": [
    "# Check for missing data again\n",
    "print(\"Missing data:\\n\", df.isnull().sum())"
   ]
  },
  {
   "cell_type": "code",
   "execution_count": 30,
   "id": "44b8df91",
   "metadata": {},
   "outputs": [
    {
     "data": {
      "text/html": [
       "<div>\n",
       "<style scoped>\n",
       "    .dataframe tbody tr th:only-of-type {\n",
       "        vertical-align: middle;\n",
       "    }\n",
       "\n",
       "    .dataframe tbody tr th {\n",
       "        vertical-align: top;\n",
       "    }\n",
       "\n",
       "    .dataframe thead th {\n",
       "        text-align: right;\n",
       "    }\n",
       "</style>\n",
       "<table border=\"1\" class=\"dataframe\">\n",
       "  <thead>\n",
       "    <tr style=\"text-align: right;\">\n",
       "      <th></th>\n",
       "      <th>Customer_ID</th>\n",
       "      <th>Total_Revenue</th>\n",
       "      <th>Number_of_Purchases</th>\n",
       "      <th>Tenure_Months</th>\n",
       "      <th>Discount_Rate(%)</th>\n",
       "      <th>Churn_Status</th>\n",
       "      <th>Satisfaction_Score</th>\n",
       "      <th>Visit_Frequency</th>\n",
       "    </tr>\n",
       "  </thead>\n",
       "  <tbody>\n",
       "    <tr>\n",
       "      <th>count</th>\n",
       "      <td>20000.000000</td>\n",
       "      <td>20000.000000</td>\n",
       "      <td>20000.000000</td>\n",
       "      <td>20000.000000</td>\n",
       "      <td>20000.000000</td>\n",
       "      <td>20000.000000</td>\n",
       "      <td>20000.000000</td>\n",
       "      <td>20000.000000</td>\n",
       "    </tr>\n",
       "    <tr>\n",
       "      <th>mean</th>\n",
       "      <td>5485.626000</td>\n",
       "      <td>5017.603416</td>\n",
       "      <td>50.108150</td>\n",
       "      <td>59.801500</td>\n",
       "      <td>10.304542</td>\n",
       "      <td>0.201350</td>\n",
       "      <td>5.552184</td>\n",
       "      <td>5.057437</td>\n",
       "    </tr>\n",
       "    <tr>\n",
       "      <th>std</th>\n",
       "      <td>2600.877312</td>\n",
       "      <td>2724.866849</td>\n",
       "      <td>28.759724</td>\n",
       "      <td>34.566973</td>\n",
       "      <td>6.340302</td>\n",
       "      <td>0.401019</td>\n",
       "      <td>2.465744</td>\n",
       "      <td>2.854274</td>\n",
       "    </tr>\n",
       "    <tr>\n",
       "      <th>min</th>\n",
       "      <td>1000.000000</td>\n",
       "      <td>50.055090</td>\n",
       "      <td>1.000000</td>\n",
       "      <td>1.000000</td>\n",
       "      <td>0.000000</td>\n",
       "      <td>0.000000</td>\n",
       "      <td>1.000142</td>\n",
       "      <td>0.100065</td>\n",
       "    </tr>\n",
       "    <tr>\n",
       "      <th>25%</th>\n",
       "      <td>3218.750000</td>\n",
       "      <td>2800.435506</td>\n",
       "      <td>25.000000</td>\n",
       "      <td>30.000000</td>\n",
       "      <td>7.057974</td>\n",
       "      <td>0.000000</td>\n",
       "      <td>3.540054</td>\n",
       "      <td>2.593461</td>\n",
       "    </tr>\n",
       "    <tr>\n",
       "      <th>50%</th>\n",
       "      <td>5503.000000</td>\n",
       "      <td>5016.896404</td>\n",
       "      <td>50.000000</td>\n",
       "      <td>60.000000</td>\n",
       "      <td>10.525696</td>\n",
       "      <td>0.000000</td>\n",
       "      <td>5.551134</td>\n",
       "      <td>5.049331</td>\n",
       "    </tr>\n",
       "    <tr>\n",
       "      <th>75%</th>\n",
       "      <td>7728.000000</td>\n",
       "      <td>7244.706076</td>\n",
       "      <td>75.000000</td>\n",
       "      <td>90.000000</td>\n",
       "      <td>13.011625</td>\n",
       "      <td>0.000000</td>\n",
       "      <td>7.567322</td>\n",
       "      <td>7.510781</td>\n",
       "    </tr>\n",
       "    <tr>\n",
       "      <th>max</th>\n",
       "      <td>9998.000000</td>\n",
       "      <td>9999.722866</td>\n",
       "      <td>99.000000</td>\n",
       "      <td>119.000000</td>\n",
       "      <td>100.000000</td>\n",
       "      <td>1.000000</td>\n",
       "      <td>9.999904</td>\n",
       "      <td>9.998863</td>\n",
       "    </tr>\n",
       "  </tbody>\n",
       "</table>\n",
       "</div>"
      ],
      "text/plain": [
       "        Customer_ID  Total_Revenue  Number_of_Purchases  Tenure_Months  \\\n",
       "count  20000.000000   20000.000000         20000.000000   20000.000000   \n",
       "mean    5485.626000    5017.603416            50.108150      59.801500   \n",
       "std     2600.877312    2724.866849            28.759724      34.566973   \n",
       "min     1000.000000      50.055090             1.000000       1.000000   \n",
       "25%     3218.750000    2800.435506            25.000000      30.000000   \n",
       "50%     5503.000000    5016.896404            50.000000      60.000000   \n",
       "75%     7728.000000    7244.706076            75.000000      90.000000   \n",
       "max     9998.000000    9999.722866            99.000000     119.000000   \n",
       "\n",
       "       Discount_Rate(%)  Churn_Status  Satisfaction_Score  Visit_Frequency  \n",
       "count      20000.000000  20000.000000        20000.000000     20000.000000  \n",
       "mean          10.304542      0.201350            5.552184         5.057437  \n",
       "std            6.340302      0.401019            2.465744         2.854274  \n",
       "min            0.000000      0.000000            1.000142         0.100065  \n",
       "25%            7.057974      0.000000            3.540054         2.593461  \n",
       "50%           10.525696      0.000000            5.551134         5.049331  \n",
       "75%           13.011625      0.000000            7.567322         7.510781  \n",
       "max          100.000000      1.000000            9.999904         9.998863  "
      ]
     },
     "execution_count": 30,
     "metadata": {},
     "output_type": "execute_result"
    }
   ],
   "source": [
    "df.describe()\n"
   ]
  },
  {
   "cell_type": "code",
   "execution_count": 9,
   "id": "0a944482",
   "metadata": {},
   "outputs": [],
   "source": [
    "#as we can see discount rate's maximum value is 290 which is not possible."
   ]
  },
  {
   "cell_type": "code",
   "execution_count": 29,
   "id": "7cb6487a",
   "metadata": {},
   "outputs": [],
   "source": [
    "# Capping outliers in Discount Rate to be between 0% and 100%\n",
    "df['Discount_Rate(%)'] = df['Discount_Rate(%)'].clip(0, 100)"
   ]
  },
  {
   "cell_type": "code",
   "execution_count": 31,
   "id": "2ca95fd5",
   "metadata": {},
   "outputs": [],
   "source": [
    "# to calculate CLV\n",
    "\n",
    "# Create a new column for CLV (which will be our target variable)\n",
    "df['CLV'] = df['Total_Revenue'] * df['Number_of_Purchases']\n"
   ]
  },
  {
   "cell_type": "code",
   "execution_count": 16,
   "id": "7b44716b",
   "metadata": {},
   "outputs": [
    {
     "data": {
      "text/html": [
       "<div>\n",
       "<style scoped>\n",
       "    .dataframe tbody tr th:only-of-type {\n",
       "        vertical-align: middle;\n",
       "    }\n",
       "\n",
       "    .dataframe tbody tr th {\n",
       "        vertical-align: top;\n",
       "    }\n",
       "\n",
       "    .dataframe thead th {\n",
       "        text-align: right;\n",
       "    }\n",
       "</style>\n",
       "<table border=\"1\" class=\"dataframe\">\n",
       "  <thead>\n",
       "    <tr style=\"text-align: right;\">\n",
       "      <th></th>\n",
       "      <th>InvoiceNo</th>\n",
       "      <th>StockCode</th>\n",
       "      <th>Description</th>\n",
       "      <th>Quantity</th>\n",
       "      <th>InvoiceDate</th>\n",
       "      <th>UnitPrice</th>\n",
       "      <th>CustomerID</th>\n",
       "      <th>Country</th>\n",
       "      <th>Revenue</th>\n",
       "    </tr>\n",
       "  </thead>\n",
       "  <tbody>\n",
       "    <tr>\n",
       "      <th>0</th>\n",
       "      <td>536365</td>\n",
       "      <td>85123A</td>\n",
       "      <td>WHITE HANGING HEART T-LIGHT HOLDER</td>\n",
       "      <td>6</td>\n",
       "      <td>2010-12-01 08:26:00</td>\n",
       "      <td>2.55</td>\n",
       "      <td>17850.0</td>\n",
       "      <td>United Kingdom</td>\n",
       "      <td>15.30</td>\n",
       "    </tr>\n",
       "    <tr>\n",
       "      <th>1</th>\n",
       "      <td>536365</td>\n",
       "      <td>71053</td>\n",
       "      <td>WHITE METAL LANTERN</td>\n",
       "      <td>6</td>\n",
       "      <td>2010-12-01 08:26:00</td>\n",
       "      <td>3.39</td>\n",
       "      <td>17850.0</td>\n",
       "      <td>United Kingdom</td>\n",
       "      <td>20.34</td>\n",
       "    </tr>\n",
       "    <tr>\n",
       "      <th>2</th>\n",
       "      <td>536365</td>\n",
       "      <td>84406B</td>\n",
       "      <td>CREAM CUPID HEARTS COAT HANGER</td>\n",
       "      <td>8</td>\n",
       "      <td>2010-12-01 08:26:00</td>\n",
       "      <td>2.75</td>\n",
       "      <td>17850.0</td>\n",
       "      <td>United Kingdom</td>\n",
       "      <td>22.00</td>\n",
       "    </tr>\n",
       "    <tr>\n",
       "      <th>3</th>\n",
       "      <td>536365</td>\n",
       "      <td>84029G</td>\n",
       "      <td>KNITTED UNION FLAG HOT WATER BOTTLE</td>\n",
       "      <td>6</td>\n",
       "      <td>2010-12-01 08:26:00</td>\n",
       "      <td>3.39</td>\n",
       "      <td>17850.0</td>\n",
       "      <td>United Kingdom</td>\n",
       "      <td>20.34</td>\n",
       "    </tr>\n",
       "    <tr>\n",
       "      <th>4</th>\n",
       "      <td>536365</td>\n",
       "      <td>84029E</td>\n",
       "      <td>RED WOOLLY HOTTIE WHITE HEART.</td>\n",
       "      <td>6</td>\n",
       "      <td>2010-12-01 08:26:00</td>\n",
       "      <td>3.39</td>\n",
       "      <td>17850.0</td>\n",
       "      <td>United Kingdom</td>\n",
       "      <td>20.34</td>\n",
       "    </tr>\n",
       "  </tbody>\n",
       "</table>\n",
       "</div>"
      ],
      "text/plain": [
       "  InvoiceNo StockCode                          Description  Quantity  \\\n",
       "0    536365    85123A   WHITE HANGING HEART T-LIGHT HOLDER         6   \n",
       "1    536365     71053                  WHITE METAL LANTERN         6   \n",
       "2    536365    84406B       CREAM CUPID HEARTS COAT HANGER         8   \n",
       "3    536365    84029G  KNITTED UNION FLAG HOT WATER BOTTLE         6   \n",
       "4    536365    84029E       RED WOOLLY HOTTIE WHITE HEART.         6   \n",
       "\n",
       "          InvoiceDate  UnitPrice  CustomerID         Country  Revenue  \n",
       "0 2010-12-01 08:26:00       2.55     17850.0  United Kingdom    15.30  \n",
       "1 2010-12-01 08:26:00       3.39     17850.0  United Kingdom    20.34  \n",
       "2 2010-12-01 08:26:00       2.75     17850.0  United Kingdom    22.00  \n",
       "3 2010-12-01 08:26:00       3.39     17850.0  United Kingdom    20.34  \n",
       "4 2010-12-01 08:26:00       3.39     17850.0  United Kingdom    20.34  "
      ]
     },
     "execution_count": 16,
     "metadata": {},
     "output_type": "execute_result"
    }
   ],
   "source": [
    "df.head()"
   ]
  },
  {
   "cell_type": "code",
   "execution_count": 15,
   "id": "0966437a",
   "metadata": {},
   "outputs": [],
   "source": [
    "#Logistic regression is sensitive to feature scaling, so we scale the numeric features for better efficiency of model\n"
   ]
  },
  {
   "cell_type": "code",
   "execution_count": 33,
   "id": "e0b2499a",
   "metadata": {},
   "outputs": [],
   "source": [
    "# Features to scale\n",
    "numeric_features = ['Total_Revenue', 'Number_of_Purchases', 'Tenure_Months', 'Discount_Rate(%)', 'Satisfaction_Score', 'Visit_Frequency']\n",
    "\n",
    "# Apply StandardScaler\n",
    "scaler = StandardScaler()\n",
    "df[numeric_features] = scaler.fit_transform(df[numeric_features])\n"
   ]
  },
  {
   "cell_type": "code",
   "execution_count": null,
   "id": "531a1545",
   "metadata": {},
   "outputs": [],
   "source": [
    "# We are using Polynomial Regression (since CLV is continuous) and compare it with Logistic Regression (if we need to classify customers as \"high-value\" vs. \"low-value\")."
   ]
  },
  {
   "cell_type": "code",
   "execution_count": 34,
   "id": "9190ae7a",
   "metadata": {},
   "outputs": [],
   "source": [
    "# Define the features (X) and the target (y)\n",
    "X = df[numeric_features]\n",
    "y = df['CLV']\n",
    "\n",
    "# Split data into train and test\n",
    "X_train, X_test, y_train, y_test = train_test_split(X, y, test_size=0.2, random_state=42)\n"
   ]
  },
  {
   "cell_type": "code",
   "execution_count": 35,
   "id": "6dddb444",
   "metadata": {},
   "outputs": [],
   "source": [
    "# Create Polynomial Features\n",
    "poly = PolynomialFeatures(degree=2)\n",
    "X_poly_train = poly.fit_transform(X_train)\n",
    "X_poly_test = poly.transform(X_test)\n",
    "\n",
    "# Train the model\n",
    "poly_reg_model = LinearRegression()\n",
    "poly_reg_model.fit(X_poly_train, y_train)\n",
    "\n",
    "# Predict on test data\n",
    "y_pred = poly_reg_model.predict(X_poly_test)\n",
    "\n"
   ]
  },
  {
   "cell_type": "code",
   "execution_count": 36,
   "id": "1ee9da5e",
   "metadata": {},
   "outputs": [
    {
     "name": "stdout",
     "output_type": "stream",
     "text": [
      "Polynomial Regression MSE: 7.826390008746217e-19\n",
      "Polynomial Regression R2 Score: 1.0\n"
     ]
    }
   ],
   "source": [
    "# Evaluate the model\n",
    "mse = mean_squared_error(y_test, y_pred)\n",
    "r2 = r2_score(y_test, y_pred)\n",
    "print(\"Polynomial Regression MSE:\", mse)\n",
    "print(\"Polynomial Regression R2 Score:\", r2)\n"
   ]
  },
  {
   "cell_type": "raw",
   "id": "27e5aad4",
   "metadata": {},
   "source": [
    "The combination of an MSE close to zero and an R² score of 1.0 indicates that your polynomial regression model is performing exceptionally well and has no error in predicting the CLV values for the test data."
   ]
  },
  {
   "cell_type": "code",
   "execution_count": 37,
   "id": "4963c1e7",
   "metadata": {},
   "outputs": [
    {
     "data": {
      "image/png": "[encoded data removed]",
      "text/plain": [
       "<Figure size 640x480 with 1 Axes>"
      ]
     },
     "metadata": {},
     "output_type": "display_data"
    }
   ],
   "source": [
    "#Plot Predicted vs Actual Values\n",
    "plt.scatter(y_test, y_pred)\n",
    "plt.xlabel(\"Actual CLV\")\n",
    "plt.ylabel(\"Predicted CLV\")\n",
    "plt.title(\"Actual vs Predicted Customer Lifetime Value\")\n",
    "plt.show()\n"
   ]
  },
  {
   "cell_type": "code",
   "execution_count": 38,
   "id": "6541f355",
   "metadata": {},
   "outputs": [
    {
     "data": {
      "image/png": "[encoded data removed]",
      "text/plain": [
       "<Figure size 640x480 with 1 Axes>"
      ]
     },
     "metadata": {},
     "output_type": "display_data"
    }
   ],
   "source": [
    "# Residual Plot\n",
    "residuals = y_test - y_pred\n",
    "plt.scatter(y_pred, residuals)\n",
    "plt.axhline(0, color='red', linestyle='--')\n",
    "plt.xlabel(\"Predicted CLV\")\n",
    "plt.ylabel(\"Residuals\")\n",
    "plt.title(\"Residuals vs Predicted CLV\")\n",
    "plt.show()\n"
   ]
  },
  {
   "cell_type": "code",
   "execution_count": 39,
   "id": "a08c8e6c",
   "metadata": {},
   "outputs": [
    {
     "name": "stdout",
     "output_type": "stream",
     "text": [
      "Predictions for 5 Random Test Samples:\n",
      "          Actual CLV  Predicted CLV\n",
      "6674   329605.012279  329605.012279\n",
      "12846  216444.930530  216444.930530\n",
      "6079   468241.697924  468241.697924\n",
      "963    646376.441636  646376.441636\n",
      "11349    2229.349653    2229.349653\n"
     ]
    }
   ],
   "source": [
    "# Select 5 random test samples\n",
    "random_indices = np.random.choice(X_test.index, size=5, replace=False)\n",
    "X_sample = X_test.loc[random_indices]\n",
    "\n",
    "# Predict the CLV for these samples\n",
    "y_sample_pred = poly_reg_model.predict(poly.transform(X_sample))\n",
    "\n",
    "# Display the predictions alongside actual values\n",
    "sample_results = pd.DataFrame({\n",
    "    'Actual CLV': y_test.loc[random_indices],\n",
    "    'Predicted CLV': y_sample_pred\n",
    "})\n",
    "\n",
    "print(\"Predictions for 5 Random Test Samples:\")\n",
    "print(sample_results)\n"
   ]
  }
 ],
 "metadata": {
  "kernelspec": {
   "display_name": "Python 3 (ipykernel)",
   "language": "python",
   "name": "python3"
  },
  "language_info": {
   "codemirror_mode": {
    "name": "ipython",
    "version": 3
   },
   "file_extension": ".py",
   "mimetype": "text/x-python",
   "name": "python",
   "nbconvert_exporter": "python",
   "pygments_lexer": "ipython3",
   "version": "3.11.4"
  }
 },
 "nbformat": 4,
 "nbformat_minor": 5
}
