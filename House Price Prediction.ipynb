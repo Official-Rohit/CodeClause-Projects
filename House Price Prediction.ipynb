{
 "cells": [
  {
   "cell_type": "code",
   "execution_count": 3,
   "id": "b119e885",
   "metadata": {},
   "outputs": [],
   "source": [
    "import pandas as pd\n",
    "import numpy as np\n",
    "import matplotlib.pyplot as plt\n",
    "from sklearn.model_selection import train_test_split\n",
    "from sklearn.linear_model import LinearRegression\n",
    "from sklearn.metrics import mean_squared_error, r2_score\n",
    "import seaborn as sns"
   ]
  },
  {
   "cell_type": "code",
   "execution_count": 4,
   "id": "af0835ba",
   "metadata": {},
   "outputs": [
    {
     "data": {
      "text/html": [
       "<div>\n",
       "<style scoped>\n",
       "    .dataframe tbody tr th:only-of-type {\n",
       "        vertical-align: middle;\n",
       "    }\n",
       "\n",
       "    .dataframe tbody tr th {\n",
       "        vertical-align: top;\n",
       "    }\n",
       "\n",
       "    .dataframe thead th {\n",
       "        text-align: right;\n",
       "    }\n",
       "</style>\n",
       "<table border=\"1\" class=\"dataframe\">\n",
       "  <thead>\n",
       "    <tr style=\"text-align: right;\">\n",
       "      <th></th>\n",
       "      <th>No of bedrooms</th>\n",
       "      <th>No of bathrooms</th>\n",
       "      <th>living area</th>\n",
       "      <th>lot area</th>\n",
       "      <th>No of floors</th>\n",
       "      <th>waterfront present</th>\n",
       "      <th>No of views</th>\n",
       "      <th>house condition</th>\n",
       "      <th>house grade</th>\n",
       "      <th>house area(excluding basement)</th>\n",
       "      <th>...</th>\n",
       "      <th>Built Year</th>\n",
       "      <th>Renovation Year</th>\n",
       "      <th>Postal Code</th>\n",
       "      <th>Lattitude</th>\n",
       "      <th>Longitude</th>\n",
       "      <th>living_area_renov</th>\n",
       "      <th>lot_area_renov</th>\n",
       "      <th>No of schools nearby</th>\n",
       "      <th>Distance from the airport</th>\n",
       "      <th>Price</th>\n",
       "    </tr>\n",
       "  </thead>\n",
       "  <tbody>\n",
       "    <tr>\n",
       "      <th>0</th>\n",
       "      <td>4</td>\n",
       "      <td>2.50</td>\n",
       "      <td>2920</td>\n",
       "      <td>4000</td>\n",
       "      <td>1.5</td>\n",
       "      <td>0</td>\n",
       "      <td>0</td>\n",
       "      <td>5</td>\n",
       "      <td>8</td>\n",
       "      <td>1910</td>\n",
       "      <td>...</td>\n",
       "      <td>1909</td>\n",
       "      <td>0</td>\n",
       "      <td>122004</td>\n",
       "      <td>52.8878</td>\n",
       "      <td>-114.470</td>\n",
       "      <td>2470</td>\n",
       "      <td>4000</td>\n",
       "      <td>2</td>\n",
       "      <td>51</td>\n",
       "      <td>1400000</td>\n",
       "    </tr>\n",
       "    <tr>\n",
       "      <th>1</th>\n",
       "      <td>5</td>\n",
       "      <td>2.75</td>\n",
       "      <td>2910</td>\n",
       "      <td>9480</td>\n",
       "      <td>1.5</td>\n",
       "      <td>0</td>\n",
       "      <td>0</td>\n",
       "      <td>3</td>\n",
       "      <td>8</td>\n",
       "      <td>2910</td>\n",
       "      <td>...</td>\n",
       "      <td>1939</td>\n",
       "      <td>0</td>\n",
       "      <td>122004</td>\n",
       "      <td>52.8852</td>\n",
       "      <td>-114.468</td>\n",
       "      <td>2940</td>\n",
       "      <td>6600</td>\n",
       "      <td>1</td>\n",
       "      <td>53</td>\n",
       "      <td>1200000</td>\n",
       "    </tr>\n",
       "    <tr>\n",
       "      <th>2</th>\n",
       "      <td>4</td>\n",
       "      <td>2.50</td>\n",
       "      <td>3310</td>\n",
       "      <td>42998</td>\n",
       "      <td>2.0</td>\n",
       "      <td>0</td>\n",
       "      <td>0</td>\n",
       "      <td>3</td>\n",
       "      <td>9</td>\n",
       "      <td>3310</td>\n",
       "      <td>...</td>\n",
       "      <td>2001</td>\n",
       "      <td>0</td>\n",
       "      <td>122005</td>\n",
       "      <td>52.9532</td>\n",
       "      <td>-114.321</td>\n",
       "      <td>3350</td>\n",
       "      <td>42847</td>\n",
       "      <td>3</td>\n",
       "      <td>76</td>\n",
       "      <td>838000</td>\n",
       "    </tr>\n",
       "    <tr>\n",
       "      <th>3</th>\n",
       "      <td>3</td>\n",
       "      <td>2.00</td>\n",
       "      <td>2710</td>\n",
       "      <td>4500</td>\n",
       "      <td>1.5</td>\n",
       "      <td>0</td>\n",
       "      <td>0</td>\n",
       "      <td>4</td>\n",
       "      <td>8</td>\n",
       "      <td>1880</td>\n",
       "      <td>...</td>\n",
       "      <td>1929</td>\n",
       "      <td>0</td>\n",
       "      <td>122006</td>\n",
       "      <td>52.9047</td>\n",
       "      <td>-114.485</td>\n",
       "      <td>2060</td>\n",
       "      <td>4500</td>\n",
       "      <td>1</td>\n",
       "      <td>51</td>\n",
       "      <td>805000</td>\n",
       "    </tr>\n",
       "    <tr>\n",
       "      <th>4</th>\n",
       "      <td>3</td>\n",
       "      <td>2.50</td>\n",
       "      <td>2600</td>\n",
       "      <td>4750</td>\n",
       "      <td>1.0</td>\n",
       "      <td>0</td>\n",
       "      <td>0</td>\n",
       "      <td>4</td>\n",
       "      <td>9</td>\n",
       "      <td>1700</td>\n",
       "      <td>...</td>\n",
       "      <td>1951</td>\n",
       "      <td>0</td>\n",
       "      <td>122007</td>\n",
       "      <td>52.9133</td>\n",
       "      <td>-114.590</td>\n",
       "      <td>2380</td>\n",
       "      <td>4750</td>\n",
       "      <td>1</td>\n",
       "      <td>67</td>\n",
       "      <td>790000</td>\n",
       "    </tr>\n",
       "  </tbody>\n",
       "</table>\n",
       "<p>5 rows × 21 columns</p>\n",
       "</div>"
      ],
      "text/plain": [
       "   No of bedrooms  No of bathrooms  living area  lot area  No of floors  \\\n",
       "0               4             2.50         2920      4000           1.5   \n",
       "1               5             2.75         2910      9480           1.5   \n",
       "2               4             2.50         3310     42998           2.0   \n",
       "3               3             2.00         2710      4500           1.5   \n",
       "4               3             2.50         2600      4750           1.0   \n",
       "\n",
       "   waterfront present  No of views  house condition  house grade  \\\n",
       "0                   0            0                5            8   \n",
       "1                   0            0                3            8   \n",
       "2                   0            0                3            9   \n",
       "3                   0            0                4            8   \n",
       "4                   0            0                4            9   \n",
       "\n",
       "   house area(excluding basement)  ...  Built Year  Renovation Year  \\\n",
       "0                            1910  ...        1909                0   \n",
       "1                            2910  ...        1939                0   \n",
       "2                            3310  ...        2001                0   \n",
       "3                            1880  ...        1929                0   \n",
       "4                            1700  ...        1951                0   \n",
       "\n",
       "   Postal Code  Lattitude  Longitude  living_area_renov  lot_area_renov  \\\n",
       "0       122004    52.8878   -114.470               2470            4000   \n",
       "1       122004    52.8852   -114.468               2940            6600   \n",
       "2       122005    52.9532   -114.321               3350           42847   \n",
       "3       122006    52.9047   -114.485               2060            4500   \n",
       "4       122007    52.9133   -114.590               2380            4750   \n",
       "\n",
       "   No of schools nearby  Distance from the airport    Price  \n",
       "0                     2                         51  1400000  \n",
       "1                     1                         53  1200000  \n",
       "2                     3                         76   838000  \n",
       "3                     1                         51   805000  \n",
       "4                     1                         67   790000  \n",
       "\n",
       "[5 rows x 21 columns]"
      ]
     },
     "execution_count": 4,
     "metadata": {},
     "output_type": "execute_result"
    }
   ],
   "source": [
    "# To Read dataset\n",
    "\n",
    "df = pd.read_excel('House Price India.xlsx')\n",
    "df.head()"
   ]
  },
  {
   "cell_type": "code",
   "execution_count": 5,
   "id": "1de16d4c",
   "metadata": {},
   "outputs": [
    {
     "name": "stdout",
     "output_type": "stream",
     "text": [
      "<class 'pandas.core.frame.DataFrame'>\n",
      "RangeIndex: 14619 entries, 0 to 14618\n",
      "Data columns (total 21 columns):\n",
      " #   Column                          Non-Null Count  Dtype  \n",
      "---  ------                          --------------  -----  \n",
      " 0   No of bedrooms                  14619 non-null  int64  \n",
      " 1   No of bathrooms                 14619 non-null  float64\n",
      " 2   living area                     14619 non-null  int64  \n",
      " 3   lot area                        14619 non-null  int64  \n",
      " 4   No of floors                    14619 non-null  float64\n",
      " 5   waterfront present              14619 non-null  int64  \n",
      " 6   No of views                     14619 non-null  int64  \n",
      " 7   house condition                 14619 non-null  int64  \n",
      " 8   house grade                     14619 non-null  int64  \n",
      " 9   house area(excluding basement)  14619 non-null  int64  \n",
      " 10  Area of the basement            14619 non-null  int64  \n",
      " 11  Built Year                      14619 non-null  int64  \n",
      " 12  Renovation Year                 14619 non-null  int64  \n",
      " 13  Postal Code                     14619 non-null  int64  \n",
      " 14  Lattitude                       14619 non-null  float64\n",
      " 15  Longitude                       14619 non-null  float64\n",
      " 16  living_area_renov               14619 non-null  int64  \n",
      " 17  lot_area_renov                  14619 non-null  int64  \n",
      " 18  No of schools nearby            14619 non-null  int64  \n",
      " 19  Distance from the airport       14619 non-null  int64  \n",
      " 20  Price                           14619 non-null  int64  \n",
      "dtypes: float64(4), int64(17)\n",
      "memory usage: 2.3 MB\n"
     ]
    }
   ],
   "source": [
    "df.info()\n"
   ]
  },
  {
   "cell_type": "code",
   "execution_count": 6,
   "id": "7763eee3",
   "metadata": {},
   "outputs": [
    {
     "name": "stdout",
     "output_type": "stream",
     "text": [
      "No of bedrooms                    0\n",
      "No of bathrooms                   0\n",
      "living area                       0\n",
      "lot area                          0\n",
      "No of floors                      0\n",
      "waterfront present                0\n",
      "No of views                       0\n",
      "house condition                   0\n",
      "house grade                       0\n",
      "house area(excluding basement)    0\n",
      "Area of the basement              0\n",
      "Built Year                        0\n",
      "Renovation Year                   0\n",
      "Postal Code                       0\n",
      "Lattitude                         0\n",
      "Longitude                         0\n",
      "living_area_renov                 0\n",
      "lot_area_renov                    0\n",
      "No of schools nearby              0\n",
      "Distance from the airport         0\n",
      "Price                             0\n",
      "dtype: int64\n"
     ]
    }
   ],
   "source": [
    "# To Check for missing values.\n",
    "\n",
    "print(df.isnull().sum())"
   ]
  },
  {
   "cell_type": "code",
   "execution_count": 24,
   "id": "688ca896",
   "metadata": {},
   "outputs": [],
   "source": [
    "# To define Independent Variables and Dependent/Target variable\n",
    "\n",
    "X = df[['No of bedrooms', 'living area', 'No of floors', 'No of bathrooms', 'No of views', 'house condition']]  # Independent Variables\n",
    "y = df['Price']  # Dependent/Target variable\n"
   ]
  },
  {
   "cell_type": "code",
   "execution_count": 30,
   "id": "10bb453a",
   "metadata": {},
   "outputs": [],
   "source": [
    "# To split the data into training and testing sets\n",
    "\n",
    "X_train, X_test, y_train, y_test = train_test_split(X, y, test_size=0.2)\n"
   ]
  },
  {
   "cell_type": "code",
   "execution_count": 31,
   "id": "0f9633b8",
   "metadata": {},
   "outputs": [
    {
     "data": {
      "text/html": [
       "<style>#sk-container-id-4 {color: black;}#sk-container-id-4 pre{padding: 0;}#sk-container-id-4 div.sk-toggleable {background-color: white;}#sk-container-id-4 label.sk-toggleable__label {cursor: pointer;display: block;width: 100%;margin-bottom: 0;padding: 0.3em;box-sizing: border-box;text-align: center;}#sk-container-id-4 label.sk-toggleable__label-arrow:before {content: \"▸\";float: left;margin-right: 0.25em;color: #696969;}#sk-container-id-4 label.sk-toggleable__label-arrow:hover:before {color: black;}#sk-container-id-4 div.sk-estimator:hover label.sk-toggleable__label-arrow:before {color: black;}#sk-container-id-4 div.sk-toggleable__content {max-height: 0;max-width: 0;overflow: hidden;text-align: left;background-color: #f0f8ff;}#sk-container-id-4 div.sk-toggleable__content pre {margin: 0.2em;color: black;border-radius: 0.25em;background-color: #f0f8ff;}#sk-container-id-4 input.sk-toggleable__control:checked~div.sk-toggleable__content {max-height: 200px;max-width: 100%;overflow: auto;}#sk-container-id-4 input.sk-toggleable__control:checked~label.sk-toggleable__label-arrow:before {content: \"▾\";}#sk-container-id-4 div.sk-estimator input.sk-toggleable__control:checked~label.sk-toggleable__label {background-color: #d4ebff;}#sk-container-id-4 div.sk-label input.sk-toggleable__control:checked~label.sk-toggleable__label {background-color: #d4ebff;}#sk-container-id-4 input.sk-hidden--visually {border: 0;clip: rect(1px 1px 1px 1px);clip: rect(1px, 1px, 1px, 1px);height: 1px;margin: -1px;overflow: hidden;padding: 0;position: absolute;width: 1px;}#sk-container-id-4 div.sk-estimator {font-family: monospace;background-color: #f0f8ff;border: 1px dotted black;border-radius: 0.25em;box-sizing: border-box;margin-bottom: 0.5em;}#sk-container-id-4 div.sk-estimator:hover {background-color: #d4ebff;}#sk-container-id-4 div.sk-parallel-item::after {content: \"\";width: 100%;border-bottom: 1px solid gray;flex-grow: 1;}#sk-container-id-4 div.sk-label:hover label.sk-toggleable__label {background-color: #d4ebff;}#sk-container-id-4 div.sk-serial::before {content: \"\";position: absolute;border-left: 1px solid gray;box-sizing: border-box;top: 0;bottom: 0;left: 50%;z-index: 0;}#sk-container-id-4 div.sk-serial {display: flex;flex-direction: column;align-items: center;background-color: white;padding-right: 0.2em;padding-left: 0.2em;position: relative;}#sk-container-id-4 div.sk-item {position: relative;z-index: 1;}#sk-container-id-4 div.sk-parallel {display: flex;align-items: stretch;justify-content: center;background-color: white;position: relative;}#sk-container-id-4 div.sk-item::before, #sk-container-id-4 div.sk-parallel-item::before {content: \"\";position: absolute;border-left: 1px solid gray;box-sizing: border-box;top: 0;bottom: 0;left: 50%;z-index: -1;}#sk-container-id-4 div.sk-parallel-item {display: flex;flex-direction: column;z-index: 1;position: relative;background-color: white;}#sk-container-id-4 div.sk-parallel-item:first-child::after {align-self: flex-end;width: 50%;}#sk-container-id-4 div.sk-parallel-item:last-child::after {align-self: flex-start;width: 50%;}#sk-container-id-4 div.sk-parallel-item:only-child::after {width: 0;}#sk-container-id-4 div.sk-dashed-wrapped {border: 1px dashed gray;margin: 0 0.4em 0.5em 0.4em;box-sizing: border-box;padding-bottom: 0.4em;background-color: white;}#sk-container-id-4 div.sk-label label {font-family: monospace;font-weight: bold;display: inline-block;line-height: 1.2em;}#sk-container-id-4 div.sk-label-container {text-align: center;}#sk-container-id-4 div.sk-container {/* jupyter's `normalize.less` sets `[hidden] { display: none; }` but bootstrap.min.css set `[hidden] { display: none !important; }` so we also need the `!important` here to be able to override the default hidden behavior on the sphinx rendered scikit-learn.org. See: https://github.com/scikit-learn/scikit-learn/issues/21755 */display: inline-block !important;position: relative;}#sk-container-id-4 div.sk-text-repr-fallback {display: none;}</style><div id=\"sk-container-id-4\" class=\"sk-top-container\"><div class=\"sk-text-repr-fallback\"><pre>LinearRegression()</pre><b>In a Jupyter environment, please rerun this cell to show the HTML representation or trust the notebook. <br />On GitHub, the HTML representation is unable to render, please try loading this page with nbviewer.org.</b></div><div class=\"sk-container\" hidden><div class=\"sk-item\"><div class=\"sk-estimator sk-toggleable\"><input class=\"sk-toggleable__control sk-hidden--visually\" id=\"sk-estimator-id-4\" type=\"checkbox\" checked><label for=\"sk-estimator-id-4\" class=\"sk-toggleable__label sk-toggleable__label-arrow\">LinearRegression</label><div class=\"sk-toggleable__content\"><pre>LinearRegression()</pre></div></div></div></div></div>"
      ],
      "text/plain": [
       "LinearRegression()"
      ]
     },
     "execution_count": 31,
     "metadata": {},
     "output_type": "execute_result"
    }
   ],
   "source": [
    "# To use Linear Regression model\n",
    "\n",
    "model = LinearRegression()\n",
    "\n",
    "# To Train the model on the training data\n",
    "\n",
    "model.fit(X_train, y_train)"
   ]
  },
  {
   "cell_type": "code",
   "execution_count": 27,
   "id": "8e3a8d6e",
   "metadata": {},
   "outputs": [
    {
     "data": {
      "text/plain": [
       "array([-48708.63000543,    271.25561294,  30675.49546243,  11021.6872423 ,\n",
       "        98935.06457459,  50161.73341589])"
      ]
     },
     "execution_count": 27,
     "metadata": {},
     "output_type": "execute_result"
    }
   ],
   "source": [
    "model.coef_"
   ]
  },
  {
   "cell_type": "code",
   "execution_count": 28,
   "id": "49890ec4",
   "metadata": {},
   "outputs": [
    {
     "data": {
      "text/plain": [
       "-130002.73058175575"
      ]
     },
     "execution_count": 28,
     "metadata": {},
     "output_type": "execute_result"
    }
   ],
   "source": [
    "model.intercept_"
   ]
  },
  {
   "cell_type": "code",
   "execution_count": 32,
   "id": "c5f276b0",
   "metadata": {},
   "outputs": [
    {
     "name": "stdout",
     "output_type": "stream",
     "text": [
      "Mean Squared Error: 51762995285.91293\n",
      "R-squared: 0.5629988088326108\n"
     ]
    }
   ],
   "source": [
    "# To Make predictions\n",
    "\n",
    "y_pred = model.predict(X_test)\n",
    "\n",
    "# and To Evaluate the model performance\n",
    "\n",
    "mse = mean_squared_error(y_test, y_pred)\n",
    "r2 = r2_score(y_test, y_pred)\n",
    "\n",
    "print(f\"Mean Squared Error: {mse}\")\n",
    "print(f\"R-squared: {r2}\")\n"
   ]
  },
  {
   "cell_type": "raw",
   "id": "c08635d4",
   "metadata": {},
   "source": [
    "- The model has a moderate Mean Squared Error, indicating some differences between predictions and actual values.\n",
    "- The R-squared value suggests that the model explains a significant portion of the variation in the target variable, but there's still some unexplained variation.\n",
    "\n",
    "Overall, the model is performing reasonably well, but there's still room for improvement to reduce the Mean Squared Error and increase R-squared."
   ]
  },
  {
   "cell_type": "code",
   "execution_count": 33,
   "id": "01dcbfe5",
   "metadata": {},
   "outputs": [
    {
     "data": {
      "image/png": "[encoded data removed]",
      "text/plain": [
       "<Figure size 640x480 with 1 Axes>"
      ]
     },
     "metadata": {},
     "output_type": "display_data"
    }
   ],
   "source": [
    "# To Visualize results in Scatter plot\n",
    "\n",
    "plt.scatter(y_test, y_pred)\n",
    "plt.xlabel(\"Actual Prices\")\n",
    "plt.ylabel(\"Predicted Prices\")\n",
    "plt.title(\"Actual vs Predicted House Prices\")\n",
    "plt.show()"
   ]
  },
  {
   "cell_type": "raw",
   "id": "efafca2b",
   "metadata": {},
   "source": [
    "The scatter plot shows a roughly linear pattern, suggesting that as actual prices increase, the predicted prices also increase, but not perfectly. There is some spread around the ideal line. \n",
    "\n",
    "The plot suggests that while the model is somewhat effective at predicting house prices, there is room for improvement, particularly in reducing errors in the higher price range, which is not possible under Linear Regression model. Thus, other models like Polynomial regression or logistic regression can be used."
   ]
  },
  {
   "cell_type": "code",
   "execution_count": 34,
   "id": "f14d315f",
   "metadata": {
    "scrolled": true
   },
   "outputs": [
    {
     "data": {
      "image/png": "[encoded data removed]",
      "text/plain": [
       "<Figure size 640x480 with 1 Axes>"
      ]
     },
     "metadata": {},
     "output_type": "display_data"
    }
   ],
   "source": [
    "# to create a residual plot\n",
    "\n",
    "residuals = y_test - y_pred\n",
    "\n",
    "plt.scatter(y_pred, residuals)\n",
    "\n",
    "plt.xlabel('Predicted Prices')\n",
    "plt.ylabel('Residuals')\n",
    "plt.title('Residual Plot')\n",
    "\n",
    "plt.axhline(y=0, color='r', linestyle='--')\n",
    "\n",
    "plt.show()\n"
   ]
  },
  {
   "cell_type": "code",
   "execution_count": 35,
   "id": "01c8aed8",
   "metadata": {
    "scrolled": true
   },
   "outputs": [
    {
     "data": {
      "text/plain": [
       "array([797545.26409495, 646027.16378555, 819715.07509925, 733432.57123527,\n",
       "       694751.0405002 ])"
      ]
     },
     "execution_count": 35,
     "metadata": {},
     "output_type": "execute_result"
    }
   ],
   "source": [
    "#  To make output prediction:\n",
    "Y_prediction = model.predict(X)\n",
    "Y_prediction[0:5]   "
   ]
  }
 ],
 "metadata": {
  "kernelspec": {
   "display_name": "Python 3 (ipykernel)",
   "language": "python",
   "name": "python3"
  },
  "language_info": {
   "codemirror_mode": {
    "name": "ipython",
    "version": 3
   },
   "file_extension": ".py",
   "mimetype": "text/x-python",
   "name": "python",
   "nbconvert_exporter": "python",
   "pygments_lexer": "ipython3",
   "version": "3.11.4"
  }
 },
 "nbformat": 4,
 "nbformat_minor": 5
}
